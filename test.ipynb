{
 "cells": [
  {
   "cell_type": "code",
   "execution_count": 1,
   "metadata": {},
   "outputs": [],
   "source": [
    "import torch"
   ]
  },
  {
   "cell_type": "code",
   "execution_count": 4,
   "metadata": {},
   "outputs": [
    {
     "name": "stdout",
     "output_type": "stream",
     "text": [
      "Original tensor A:\n",
      "tensor([[[0.4066, 0.9463, 0.7561, 0.2609],\n",
      "         [0.8481, 0.8047, 0.0403, 0.7506],\n",
      "         [0.0444, 0.0604, 0.7287, 0.3414]],\n",
      "\n",
      "        [[0.4975, 0.7342, 0.8019, 0.4625],\n",
      "         [0.8443, 0.3666, 0.4414, 0.8744],\n",
      "         [0.3072, 0.4292, 0.1607, 0.3211]]])\n",
      "Shape of A: torch.Size([2, 3, 4])\n",
      "\n",
      "Transposed tensor B:\n",
      "tensor([[[0.4066, 0.8481, 0.0444],\n",
      "         [0.9463, 0.8047, 0.0604],\n",
      "         [0.7561, 0.0403, 0.7287],\n",
      "         [0.2609, 0.7506, 0.3414]],\n",
      "\n",
      "        [[0.4975, 0.8443, 0.3072],\n",
      "         [0.7342, 0.3666, 0.4292],\n",
      "         [0.8019, 0.4414, 0.1607],\n",
      "         [0.4625, 0.8744, 0.3211]]])\n",
      "Shape of B: torch.Size([2, 4, 3])\n"
     ]
    }
   ],
   "source": [
    "import torch\n",
    "\n",
    "# Create a sample tensor\n",
    "A = torch.rand(2, 3, 4)\n",
    "\n",
    "# Transpose A by swapping dimensions -2 and -1\n",
    "B = torch.transpose(A, -2, -1)\n",
    "\n",
    "print(\"Original tensor A:\")\n",
    "print(A)\n",
    "print(\"Shape of A:\", A.shape)\n",
    "\n",
    "print(\"\\nTransposed tensor B:\")\n",
    "print(B)\n",
    "print(\"Shape of B:\", B.shape)\n"
   ]
  },
  {
   "cell_type": "code",
   "execution_count": null,
   "metadata": {},
   "outputs": [],
   "source": []
  }
 ],
 "metadata": {
  "kernelspec": {
   "display_name": "base",
   "language": "python",
   "name": "python3"
  },
  "language_info": {
   "codemirror_mode": {
    "name": "ipython",
    "version": 3
   },
   "file_extension": ".py",
   "mimetype": "text/x-python",
   "name": "python",
   "nbconvert_exporter": "python",
   "pygments_lexer": "ipython3",
   "version": "3.11.7"
  }
 },
 "nbformat": 4,
 "nbformat_minor": 2
}
